{
 "cells": [
  {
   "cell_type": "markdown",
   "metadata": {},
   "source": [
    "## Notebook de práticas de web scraping ##"
   ]
  },
  {
   "cell_type": "markdown",
   "metadata": {},
   "source": [
    "#### Primeiro passo - importar as bibliotecas necessárias ####"
   ]
  },
  {
   "cell_type": "code",
   "execution_count": 2,
   "metadata": {},
   "outputs": [],
   "source": [
    "from bs4 import BeautifulSoup as bs\n",
    "import requests"
   ]
  },
  {
   "cell_type": "markdown",
   "metadata": {},
   "source": [
    "#### Iremos carregar a página ####"
   ]
  },
  {
   "cell_type": "code",
   "execution_count": null,
   "metadata": {},
   "outputs": [],
   "source": [
    "#buscar a página da wikipedia do filme toy story 3\n",
    "r = requests.get('https://pt.wikipedia.org/wiki/Toy_Story_3')\n",
    "\n",
    "soup = bs(r.content)\n",
    "\n",
    "conteudo = soup.prettify()\n",
    "\n",
    "#Print só para garantir que a informação foi puxada corretamente.\n",
    "print(conteudo)\n"
   ]
  },
  {
   "cell_type": "markdown",
   "metadata": {},
   "source": [
    "#### Agora que os dados da página estão carregados devemos ir na própria página e usar o recurso de inspecionar do navegador para encontrar algo que identifique a parte que queremos extrair. No caso vai ser a caixinha de informações que fica na lateral direita da página da wikipedia ####"
   ]
  },
  {
   "cell_type": "code",
   "execution_count": null,
   "metadata": {},
   "outputs": [],
   "source": [
    "caixa_informacoes = soup.find(class_='infobox infobox_v2')\n",
    "\n",
    "#print para garantir que a informação foi carregada corretamente, para visualizar só descomentar.\n",
    "#print(caixa_informacoes.prettify())\n",
    "\n"
   ]
  },
  {
   "cell_type": "markdown",
   "metadata": {},
   "source": [
    "#### Com a caixa de informações selecionada vou pegar as partes que estão com as informações necessárias. Observando via o inspecionar, percebo que estão em divisórias de <\\tr> que são table rows. Dentro de cada <\\tr> temos dois campos importantes, o \"<\\th>\" que representa o table header e o \"<\\td>\" que representa table data. No caso da página de teste todos os dados estão dentro de td's, então os pares serão chave e os ímpares serão o conteúdo. ####\n"
   ]
  },
  {
   "cell_type": "code",
   "execution_count": null,
   "metadata": {},
   "outputs": [],
   "source": [
    "#como a informação relevante está em table rows vou separar essa informação dentro de uma lista com todas as table rows que estão na caixa de informações.\n",
    "info_rows = caixa_informacoes.find_all(\"tr\")\n",
    "\n",
    "#print para verificar que está gerando uma lista de informações.\n",
    "#print(info_rows)\n",
    "\n",
    "#agora teremos que iterar sobre as linhas (rows) para buscar cada informação.\n",
    "#iremos salvar essas informações em um dicionário, para ajudar vamos usar uma ferramenta do python que gera um índice ao mesmo tempo do for\n",
    "dict_informacoes_filmes = {}\n",
    "for index, row in enumerate(info_rows):\n",
    "    #se o index for 0 é o primeiro elemento, que tem o título do filme.\n",
    "    if index == 0:\n",
    "        dict_informacoes_filmes['titulo'] = row.find('th').get_text(\"\\n\", strip=True)\n",
    "    #se o index for 1 ou 2 iremos pular pois são a imagem e a informação de país de produção, que não quero utilizar\n",
    "    elif index == 1 or index == 2:\n",
    "        continue\n",
    "    #para os outros iremos pegar no header o nome da categoria que vai ser a chave pro dicionario e no data o valor\n",
    "    else:\n",
    "        dados_linha = row.find_all('td')\n",
    "        if len(dados_linha) != 0:\n",
    "            chave = dados_linha[0].get_text(\"\\n\", strip=True)\n",
    "            conteudo = dados_linha[1].get_text(\"\\n\", strip=True).replace(\"\\n\", \" \")\n",
    "            dict_informacoes_filmes[chave] = conteudo\n",
    "\n",
    "#os 4 ultimos elementos do conjunto são links para o filme anterior e para o próximo, então podemos também excluí-los\n",
    "dict_informacoes_filmes.popitem()\n",
    "dict_informacoes_filmes.popitem()\n",
    "dict_informacoes_filmes.popitem()\n",
    "dict_informacoes_filmes.popitem()\n",
    "\n",
    "for elemento in dict_informacoes_filmes:\n",
    "    print(elemento,\": \", dict_informacoes_filmes[elemento])"
   ]
  },
  {
   "cell_type": "markdown",
   "metadata": {},
   "source": [
    "### 2 parte ### "
   ]
  }
 ],
 "metadata": {
  "interpreter": {
   "hash": "ac59ebe37160ed0dfa835113d9b8498d9f09ceb179beaac4002f036b9467c963"
  },
  "kernelspec": {
   "display_name": "Python 3.9.2 64-bit",
   "language": "python",
   "name": "python3"
  },
  "language_info": {
   "codemirror_mode": {
    "name": "ipython",
    "version": 3
   },
   "file_extension": ".py",
   "mimetype": "text/x-python",
   "name": "python",
   "nbconvert_exporter": "python",
   "pygments_lexer": "ipython3",
   "version": "3.9.2"
  },
  "orig_nbformat": 4
 },
 "nbformat": 4,
 "nbformat_minor": 2
}
